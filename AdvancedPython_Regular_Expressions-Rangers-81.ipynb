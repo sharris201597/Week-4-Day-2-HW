{
 "cells": [
  {
   "cell_type": "markdown",
   "metadata": {},
   "source": [
    "# Regular Expressions"
   ]
  },
  {
   "cell_type": "markdown",
   "metadata": {},
   "source": [
    "# Tasks today:\n",
    "1) <b>Importing</b> <br>\n",
    "2) <b>Using Regular Expressions</b> <br>\n",
    " &nbsp;&nbsp;&nbsp;&nbsp; a) re.compile() <br>\n",
    " &nbsp;&nbsp;&nbsp;&nbsp; b) re.match() <br>\n",
    " &nbsp;&nbsp;&nbsp;&nbsp; c) re.findall() <br>\n",
    " &nbsp;&nbsp;&nbsp;&nbsp; d) re.search() <br>\n",
    "3) <b>Sets</b> <br>\n",
    " &nbsp;&nbsp;&nbsp;&nbsp; a) Integer Ranges <br>\n",
    " &nbsp;&nbsp;&nbsp;&nbsp; b) Character Ranges <br>\n",
    "4) <b>Counting Occurences</b> <br>\n",
    " &nbsp;&nbsp;&nbsp;&nbsp; a) {x} <br>\n",
    " &nbsp;&nbsp;&nbsp;&nbsp; b) {, x} <br>\n",
    " &nbsp;&nbsp;&nbsp;&nbsp; c) {?} <br>\n",
    " &nbsp;&nbsp;&nbsp;&nbsp; d) {*} <br>\n",
    " &nbsp;&nbsp;&nbsp;&nbsp; e) {+} <br>\n",
    "5) <b>In-Class Exercise #1</b> <br>\n",
    "6) <b>Escaping Characters</b> <br>\n",
    "7) <b>Grouping</b> <br>\n",
    "8) <b>In-Class Exercise #2</b> <br>\n",
    "9) <b>Opening a File</b> <br>\n",
    " &nbsp;&nbsp;&nbsp;&nbsp; a) open() <br>\n",
    " &nbsp;&nbsp;&nbsp;&nbsp; b) with open() <br>\n",
    " &nbsp;&nbsp;&nbsp;&nbsp; c) re.match() <br>\n",
    " &nbsp;&nbsp;&nbsp;&nbsp; d) re.search() <br>\n",
    " &nbsp;&nbsp;&nbsp;&nbsp; e) Store the String in a Variable <br>\n",
    "10) <b>Regex Project</b> <br>"
   ]
  },
  {
   "cell_type": "markdown",
   "metadata": {},
   "source": [
    "### Importing <br>\n",
    "<p>Regular Expressions are universal throughout most programming languages... They are generally imported through the module 're'.</p>"
   ]
  },
  {
   "cell_type": "code",
   "execution_count": 6,
   "metadata": {},
   "outputs": [],
   "source": [
    "# import re\n",
    "import re"
   ]
  },
  {
   "cell_type": "markdown",
   "metadata": {},
   "source": [
    "### Using Regular Expressions <br>\n",
    "<p>Regular expressions give us the ability to search for patterns within text, strings, files, etc. They serve several uses, such as; security measures, searching, filtering, pattern recognition, and more...</p>"
   ]
  },
  {
   "cell_type": "markdown",
   "metadata": {},
   "source": [
    "##### re.compile()"
   ]
  },
  {
   "cell_type": "code",
   "execution_count": 2,
   "metadata": {},
   "outputs": [
    {
     "name": "stdout",
     "output_type": "stream",
     "text": [
      "re.compile('abcd')\n"
     ]
    }
   ],
   "source": [
    "# using compile, pre determines the string to be used in regular expression methods\n",
    "pattern = re.compile(\"abcd\")\n",
    "print(pattern)\n"
   ]
  },
  {
   "cell_type": "markdown",
   "metadata": {},
   "source": [
    "##### re.match()"
   ]
  },
  {
   "cell_type": "code",
   "execution_count": 5,
   "metadata": {},
   "outputs": [
    {
     "name": "stdout",
     "output_type": "stream",
     "text": [
      "<re.Match object; span=(0, 4), match='abcd'>\n",
      "(0, 4)\n"
     ]
    }
   ],
   "source": [
    "match = pattern.match(\"abcd123\")\n",
    "print(match)\n",
    "print(match.span())\n",
    "\n",
    "# Accessing the span of the match\n"
   ]
  },
  {
   "cell_type": "markdown",
   "metadata": {},
   "source": [
    "##### re.findall()"
   ]
  },
  {
   "cell_type": "code",
   "execution_count": 6,
   "metadata": {},
   "outputs": [
    {
     "name": "stdout",
     "output_type": "stream",
     "text": [
      "['abcd', 'abcd']\n"
     ]
    }
   ],
   "source": [
    "finders = pattern.findall(\"123abcd abcd123 abc acdc ab123cd\")\n",
    "print(finders)"
   ]
  },
  {
   "cell_type": "markdown",
   "metadata": {},
   "source": [
    "##### re.search()"
   ]
  },
  {
   "cell_type": "code",
   "execution_count": 10,
   "metadata": {},
   "outputs": [
    {
     "name": "stdout",
     "output_type": "stream",
     "text": [
      "<re.Match object; span=(19, 23), match='abcd'>\n",
      "abcd\n",
      "2565\n"
     ]
    }
   ],
   "source": [
    "random = \"123 1234 342342565 abcd abc\"\n",
    "search = pattern.search(random)\n",
    "\n",
    "print(search)\n",
    "\n",
    "span = search.span()\n",
    "\n",
    "print(random[ span[0] : span[1] ] )\n",
    "print(random[14:18])"
   ]
  },
  {
   "cell_type": "markdown",
   "metadata": {},
   "source": [
    "### Sets <br>\n",
    "<p>The following cells will allow you to use regular expressions to search for certain values within a range such as numbers 1 through 4.</p>"
   ]
  },
  {
   "cell_type": "markdown",
   "metadata": {},
   "source": [
    "##### [a-z] or [A-Z] - any lowercase/uppercase letters from a to z<br/>[^2] - anything that's not 2"
   ]
  },
  {
   "cell_type": "markdown",
   "metadata": {},
   "source": [
    "##### Integer Ranges"
   ]
  },
  {
   "cell_type": "code",
   "execution_count": 12,
   "metadata": {},
   "outputs": [
    {
     "name": "stdout",
     "output_type": "stream",
     "text": [
      "<re.Match object; span=(0, 3), match='672'>\n",
      "(0, 3)\n",
      "['672']\n"
     ]
    }
   ],
   "source": [
    "parttern_int = re.compile('[0-7][7-9][0-3]')\n",
    "\n",
    "random_nums = parttern_int.search('67283')\n",
    "span = random_nums.span()\n",
    "print(random_nums)\n",
    "print(span)\n",
    "\n",
    "find_nums = parttern_int.findall('67283')\n",
    "print(find_nums)"
   ]
  },
  {
   "cell_type": "markdown",
   "metadata": {},
   "source": [
    "##### Character Ranges"
   ]
  },
  {
   "cell_type": "code",
   "execution_count": 13,
   "metadata": {},
   "outputs": [
    {
     "name": "stdout",
     "output_type": "stream",
     "text": [
      "['He', 'Th', 'Mr', 'An']\n"
     ]
    }
   ],
   "source": [
    "char = re.compile('[A-Z][a-z]')\n",
    "found = char.findall('Hellow There Mr.Anderson')\n",
    "print(found)"
   ]
  },
  {
   "cell_type": "markdown",
   "metadata": {},
   "source": [
    "### Counting Occurences"
   ]
  },
  {
   "cell_type": "markdown",
   "metadata": {},
   "source": [
    "##### {x} - something that occurs {num_of_times}"
   ]
  },
  {
   "cell_type": "code",
   "execution_count": 14,
   "metadata": {},
   "outputs": [
    {
     "name": "stdout",
     "output_type": "stream",
     "text": [
      "['Terrel', 'Lookin', 'Sseven', 'Letter']\n"
     ]
    }
   ],
   "source": [
    "charc_count_pattern = re.compile('[A-Z][a-z]{5}')\n",
    "\n",
    "found = charc_count_pattern.findall(\"Terrel is Looking for a Sseven Letter word. \")\n",
    "print(found)"
   ]
  },
  {
   "cell_type": "markdown",
   "metadata": {},
   "source": [
    "##### {x, x} - something that occurs between x and x times"
   ]
  },
  {
   "cell_type": "code",
   "execution_count": 17,
   "metadata": {},
   "outputs": [
    {
     "name": "stdout",
     "output_type": "stream",
     "text": [
      "['m', 'm', 'm', 'mm', 'm', 'm', 'mmmmm', 'mm']\n"
     ]
    }
   ],
   "source": [
    "rand_pattern = re.compile(\"m{1,5}\")\n",
    "\n",
    "random_statement = rand_pattern.findall(\"This is an example of a regEx trying to find one m, more than one mm, and many more mmmmmmm \")\n",
    "\n",
    "print(random_statement)"
   ]
  },
  {
   "cell_type": "markdown",
   "metadata": {},
   "source": [
    "##### ? - something that occurs 0 or 1 time"
   ]
  },
  {
   "cell_type": "code",
   "execution_count": 18,
   "metadata": {},
   "outputs": [
    {
     "name": "stdout",
     "output_type": "stream",
     "text": [
      "['Mrs', 'Mr']\n"
     ]
    }
   ],
   "source": [
    "# optional\n",
    "pattern = re.compile(\"Mrs?\")\n",
    "\n",
    "found_pat = pattern.findall(\"Mrs.Gump was a great mom to Mr.Gump.\")\n",
    "print(found_pat)"
   ]
  },
  {
   "cell_type": "markdown",
   "metadata": {},
   "source": [
    "##### * - something that occurs at least 0 times"
   ]
  },
  {
   "cell_type": "code",
   "execution_count": 20,
   "metadata": {},
   "outputs": [
    {
     "name": "stdout",
     "output_type": "stream",
     "text": [
      "['Mrssssssss', 'Mrss', 'Mr']\n"
     ]
    }
   ],
   "source": [
    "# Lazy vs Greedy Quantifier\n",
    "pattern = re.compile(\"Mrs*\")\n",
    "found_s = pattern.findall(\"Mrssssssss Gump is serious...Mrss. Mr. Gump is not so serious.\")\n",
    "print(found_s)"
   ]
  },
  {
   "cell_type": "markdown",
   "metadata": {},
   "source": [
    "##### + - something that occurs at least once"
   ]
  },
  {
   "cell_type": "code",
   "execution_count": 21,
   "metadata": {},
   "outputs": [
    {
     "name": "stdout",
     "output_type": "stream",
     "text": [
      "['Mrssssssss', 'Mrss']\n"
     ]
    }
   ],
   "source": [
    "pattern = re.compile(\"Mrs+\")\n",
    "found_s = pattern.findall(\"Mrssssssss Gump is serious...Mrss. Mr. Gump is not so serious.\")\n",
    "print(found_s)"
   ]
  },
  {
   "cell_type": "markdown",
   "metadata": {},
   "source": [
    "##### In-class exercise 1: \n",
    "\n",
    "Use a regular expression to find every number in the given string"
   ]
  },
  {
   "cell_type": "code",
   "execution_count": 29,
   "metadata": {},
   "outputs": [
    {
     "name": "stdout",
     "output_type": "stream",
     "text": [
      "['10909090', '1', '2']\n"
     ]
    }
   ],
   "source": [
    "my_string = \"This string has 10909090 numbers, but it is only 1 string. I hope you solve this 2day.\"\n",
    "\n",
    "# Output: ['10909090','1',2]\n",
    "pattern_nums = re.compile(\"[0-9]+\")\n",
    "find_numsss = pattern_nums.findall(my_string)\n",
    "print(find_numsss)\n",
    "\n"
   ]
  },
  {
   "cell_type": "markdown",
   "metadata": {},
   "source": [
    "### Escaping Characters"
   ]
  },
  {
   "cell_type": "markdown",
   "metadata": {},
   "source": [
    "##### \\w - look for any Unicode character<br/>\\W - look for anything that isnt a Unicode character\n",
    "\n",
    "[History on Unicode](http://unicode.org/standard/WhatIsUnicode.html)\n",
    "\n",
    "[More on Unicode Characters](https://en.wikipedia.org/wiki/List_of_Unicode_characters)"
   ]
  },
  {
   "cell_type": "code",
   "execution_count": 30,
   "metadata": {},
   "outputs": [
    {
     "name": "stdout",
     "output_type": "stream",
     "text": [
      "['This', 'is', 'a', 'sentence', 'With', 'an', 'exclamation', 'mark', 'at', 'the', 'end']\n",
      "[' ', ' ', ' ', '. ', ' ', ', ', ' ', ' ', ' ', ' ', '!']\n"
     ]
    }
   ],
   "source": [
    "pattern_w = re.compile('[\\w]+')\n",
    "pattern_W = re.compile(\"[\\W]+\")\n",
    "\n",
    "found_w = pattern_w.findall(\"This is a sentence. With an, exclamation mark at the end!\")\n",
    "found_W = pattern_W.findall(\"This is a sentence. With an, exclamation mark at the end!\")\n",
    "print(found_w)\n",
    "print(found_W)"
   ]
  },
  {
   "cell_type": "markdown",
   "metadata": {},
   "source": [
    "##### \\d - look for any digit 0-9<br/>\\D - look for anything that isnt a digit"
   ]
  },
  {
   "cell_type": "code",
   "execution_count": 31,
   "metadata": {},
   "outputs": [
    {
     "name": "stdout",
     "output_type": "stream",
     "text": [
      "['13th', '33rd', '1st', '5th']\n"
     ]
    }
   ],
   "source": [
    "pattern_dates = re.compile(\"\\d{1,2}[a-z]{2}\")\n",
    "found_date = pattern_dates.findall(\"Today is the 13th, in 20 days, it will be the 33rd, 1st, and 5th\")\n",
    "print(found_date)"
   ]
  },
  {
   "cell_type": "markdown",
   "metadata": {},
   "source": [
    "##### \\s - look for any white space<br/>\\S - look for anything that isnt whitespace"
   ]
  },
  {
   "cell_type": "code",
   "execution_count": 37,
   "metadata": {},
   "outputs": [
    {
     "name": "stdout",
     "output_type": "stream",
     "text": [
      "[' ', ' ', ' ', ' ', ' ']\n",
      "['Are', 'you', 'afr', 'aid', 'of', 'the', 'dark', '?']\n"
     ]
    }
   ],
   "source": [
    "pattern_no_space = re.compile(\"\\S+\")\n",
    "pattern_space = re.compile(\"\\s+\")\n",
    "found_space = pattern_space.findall(\"Are you afraid of the dark?\")\n",
    "print(found_space)\n",
    "found_dark = pattern_no_space.findall(\"Are you afr aid of the dark ?\")\n",
    "print(found_dark)"
   ]
  },
  {
   "cell_type": "markdown",
   "metadata": {},
   "source": [
    "##### \\b - look for boundaries or edges of a word<br/>\\B - look for anything that isnt a boundary"
   ]
  },
  {
   "cell_type": "code",
   "execution_count": 39,
   "metadata": {},
   "outputs": [
    {
     "name": "stdout",
     "output_type": "stream",
     "text": [
      "['sand', 'sand']\n",
      "['sand']\n"
     ]
    }
   ],
   "source": [
    "pattern_bound = re.compile(r'sand\\b')\n",
    "pattern_no_bound = re.compile(r'sand\\B')\n",
    "\n",
    "\n",
    "found = pattern_bound.findall(\"The beach is sandy and sand is nice, but watch out for quicksand!\")\n",
    "print(found)\n",
    "found_no_bound = pattern_no_bound.findall(\"The beach is sandy and sand is nice, but watch out for quicksand!\")\n",
    "print(found_no_bound)"
   ]
  },
  {
   "cell_type": "markdown",
   "metadata": {},
   "source": [
    "### Grouping"
   ]
  },
  {
   "cell_type": "code",
   "execution_count": 7,
   "metadata": {},
   "outputs": [
    {
     "name": "stdout",
     "output_type": "stream",
     "text": [
      "[('Max', 'Smith'), ('Bryan', \"O'Bien\"), ('Sam', 'Darnold'), ('LeBron', 'James'), ('Micheal', 'Jordan'), ('Kevin', 'Durant'), ('Patrick', 'McCormick')]\n",
      "('Max', 'Smith')\n",
      "Not a name\n",
      "('Bryan', \"O'Bien\")\n",
      "('Sam', 'Darnold')\n",
      "('LeBron', 'James')\n",
      "('Micheal', 'Jordan')\n",
      "('Kevin', 'Durant')\n",
      "('Patrick', 'McCormick')\n"
     ]
    }
   ],
   "source": [
    "name_string = \"Max Smith, aaron rodgers, Bryan O'Bien, Sam Darnold,LeBron James, Micheal Jordan, Kevin Durant, Patrick McCormick\"\n",
    "\n",
    "\n",
    "pattern_name = re.compile(\"([A-Z][a-z][A-Z]?[a-z]+) ([A-Z]'?[A-Za-z]+)\")\n",
    "\n",
    "found_names = pattern_name.findall(name_string)\n",
    "print(found_names)\n",
    "\n",
    "\n",
    "for name in name_string.split(','):\n",
    "    match = pattern_name.search(name)\n",
    "    if match:\n",
    "        print(match.groups(2))\n",
    "    else:\n",
    "        print(\"Not a name\")"
   ]
  },
  {
   "cell_type": "markdown",
   "metadata": {},
   "source": [
    "##### In-class Exercise 2:\n",
    "\n",
    "Write a function using regular expressions to find the domain name in the given email addresses (and return None for the invalid email addresses)<br><b>HINT: Use '|' for either or</b>"
   ]
  },
  {
   "cell_type": "code",
   "execution_count": 8,
   "metadata": {},
   "outputs": [
    {
     "name": "stdout",
     "output_type": "stream",
     "text": [
      "None\n",
      "('pocohontas1776@gmail.com',)\n",
      "None\n",
      "('yourfavoriteband@g6.org',)\n",
      "None\n"
     ]
    }
   ],
   "source": [
    "my_emails = [\"jordanw@codingtemple.orgcom\", \"pocohontas1776@gmail.com\", \"helloworld@aol..com\",\n",
    "             \"yourfavoriteband@g6.org\", \"@codingtemple.com\"]\n",
    "\n",
    "# You can also use the $ at the end of your compile expression -- this stops the search\n",
    "\n",
    "#.com OR .org => com|org\n",
    "\n",
    "#Expected output:\n",
    "#None\n",
    "#pocohontas1776@gmail.com\n",
    "#None\n",
    "#yourfavoriteband@g6.org\n",
    "#None\n",
    "\n",
    "pattern_emails = re.compile(\"([a-z]+[1-9]*[@][a-z]+[1-9]*[.][a-z]{3}$)\")\n",
    "\n",
    "\n",
    "\n",
    "found_emails = pattern_emails.findall(str(my_emails))\n",
    "for emails in range(len(my_emails)):\n",
    "    match = pattern_emails.search(my_emails[emails])\n",
    "    if match:\n",
    "        print(match.groups(pattern_emails))\n",
    "    else:\n",
    "        print('None')\n"
   ]
  },
  {
   "cell_type": "code",
   "execution_count": 9,
   "metadata": {},
   "outputs": [
    {
     "name": "stdout",
     "output_type": "stream",
     "text": [
      "Hawkins, Derek\tderek@codingtemple.com\t(555) 555-5555\tTeacher, Coding Temple\t@derekhawkins\n",
      "Zhai, Mo\tmozhai@codingtemple.com\t(555) 555-5554\tTeacher, Coding Temple\n",
      "Johnson, Joe\tjoejohnson@codingtemple.com\t\tJohson, Joe\n",
      "Osterberg, Sven-Erik\tgovernor@norrbotten.co.se\t\tGovernor, Norrbotten\t@sverik\n",
      ", Tim\ttim@killerrabbit.com\t\tEnchanter, Killer Rabbit Cave\n",
      "Butz, Ryan\tryanb@codingtemple.com\t(555) 555-5543\tCEO, Coding Temple\t@ryanbutz\n",
      "Doctor, The\tdoctor+companion@tardis.co.uk\t\tTime Lord, Gallifrey\n",
      "Exampleson, Example\tme@example.com\t555-555-5552\tExample, Example Co.\t@example\n",
      "Pael, Ripal\tripalp@codingtemple.com\t(555) 555-5553\tTeacher, Coding Temple\t@ripalp\n",
      "Vader, Darth\tdarth-vader@empire.gov\t(555) 555-4444\tSith Lord, Galactic Empire\t@darthvader\n",
      "Fernandez de la Vega Sanz, Maria Teresa\tmtfvs@spain.gov\t\tFirst Deputy Prime Minister, Spanish Gov\n",
      "\n"
     ]
    }
   ],
   "source": [
    "f = open('files/names.txt')\n",
    "\n",
    "data = f.read()\n",
    "print(data)\n",
    "\n",
    "name_pattern = re.compile(\"([A-Z][a-z][A-Z]?[a-z]+,) ([A-Z]'?[A-Za-z]+)\") \n",
    "output = name_pattern.findall(data)\n"
   ]
  },
  {
   "cell_type": "code",
   "execution_count": 33,
   "metadata": {},
   "outputs": [
    {
     "name": "stdout",
     "output_type": "stream",
     "text": [
      "None\n",
      "pocohontas1776@gmail.com\n",
      "gmail.com\n",
      "None\n",
      "yourfavoriteband@g6.org\n",
      "g6.org\n",
      "None\n"
     ]
    }
   ],
   "source": [
    "def email_valid(lst):\n",
    "    key = re.compile(\"(\\w+[@])(\\w+[.])(com$|org$)\")\n",
    "    for pattern in lst:\n",
    "        email = key.search(pattern)\n",
    "        if email != None:\n",
    "            email_span = email.span()\n",
    "            email_output = (pattern[email_span[0]:email_span[1]])\n",
    "            print(email_output)\n",
    "            print(\"\".join(email.group(2,3)))\n",
    "        else:\n",
    "            print(email)\n",
    "email_valid(my_emails)\n"
   ]
  },
  {
   "cell_type": "markdown",
   "metadata": {},
   "source": [
    "### Opening a File <br>\n",
    "<p>Python gives us a couple ways to import files, below are the two used most often.</p>"
   ]
  },
  {
   "cell_type": "markdown",
   "metadata": {},
   "source": [
    "##### open()"
   ]
  },
  {
   "cell_type": "markdown",
   "metadata": {},
   "source": [
    "##### with open()"
   ]
  },
  {
   "cell_type": "code",
   "execution_count": 51,
   "metadata": {},
   "outputs": [
    {
     "name": "stdout",
     "output_type": "stream",
     "text": [
      "Derek  Hawkins | @derekhawkins\n",
      "Erik Sven- Osterberg | @sverik\n",
      "Ryan  Butz | @ryanbutz\n",
      "Example  Exampleson | @example\n",
      "Ripal  Pael | @ripalp\n",
      "Darth  Vader | @darthvader\n"
     ]
    }
   ],
   "source": [
    "with open('files/names.txt') as f:\n",
    "    data = f.readlines()\n",
    "    \n",
    "\n",
    "    \n",
    "\n",
    "# pattern = re.compile(\"([A-Z][a-z]+), ([A-Z][a-z]+).*\\s(@[a-zA-Z0-9]+$)\")\n",
    "pattern = re.compile(\"([A-Z][a-z]+), ([\\w -]*)([A-Z][a-z]+).*\\s(@[a-zA-Z0-9]+$)\")\n",
    "\n",
    "for line in data:\n",
    "    output = pattern.search(line)\n",
    "    if output:\n",
    "\n",
    "        print(f\"{output.group(3)} {output.group(2)} {output.group(1)} | {output.group(4)}\")"
   ]
  },
  {
   "cell_type": "markdown",
   "metadata": {},
   "source": [
    "##### re.match()"
   ]
  },
  {
   "cell_type": "code",
   "execution_count": 60,
   "metadata": {},
   "outputs": [
    {
     "name": "stdout",
     "output_type": "stream",
     "text": [
      "<re.Match object; span=(652, 664), match='Vader, Darth'>\n"
     ]
    }
   ],
   "source": [
    "print(re.search(r'Vader, Darth', data))"
   ]
  },
  {
   "cell_type": "markdown",
   "metadata": {},
   "source": [
    "##### re.search()"
   ]
  },
  {
   "cell_type": "code",
   "execution_count": null,
   "metadata": {},
   "outputs": [],
   "source": [
    "#look above"
   ]
  },
  {
   "cell_type": "markdown",
   "metadata": {},
   "source": [
    "##### Store the String to a Variable"
   ]
  },
  {
   "cell_type": "code",
   "execution_count": 61,
   "metadata": {},
   "outputs": [
    {
     "name": "stdout",
     "output_type": "stream",
     "text": [
      "I found ['darth', 'darth']\n"
     ]
    }
   ],
   "source": [
    "answer = input(\"What are you seaching for?\")\n",
    "\n",
    "found = re.findall(answer,data)\n",
    "if found:\n",
    "    print(f\"I found {found}\")\n",
    "else:\n",
    "    print(f\"No {answer} in data\")\n",
    "\n",
    "\n",
    "# f = open('names.txt')\n",
    "\n",
    "# data = f.read()\n",
    "\n",
    "# found = re.findall('(?m)([A-Z][\\w]+), ([A-Z][\\w]+[-]?[\\w]+?)\\t+(?:[\\w]+[-]?[\\w]+?[@]).*([@][a-z]+)$', data)\n",
    "\n",
    "# for pair in found:\n",
    "#     print(f\"{pair[1]} {pair[0]} | {pair[2]}\")\n"
   ]
  },
  {
   "cell_type": "markdown",
   "metadata": {},
   "source": [
    "### In-Class Exercise #3 <br>\n",
    "<p>Print each persons name and twitter handle, using groups, should look like:</p>\n",
    "<p>==============<br>\n",
    "   Full Name / Twitter<br>\n",
    "   ==============</p>\n",
    "Derek Hawkins / @derekhawkins\n",
    "\n",
    " Erik Sven-Osterberg / @sverik\n",
    "\n",
    " Ryan Butz / @ryanbutz\n",
    "\n",
    " Example Exampleson / @example\n",
    "\n",
    " Ripal Pael / @ripalp\n",
    "\n",
    " Darth Vader / @darthvader"
   ]
  },
  {
   "cell_type": "code",
   "execution_count": 57,
   "metadata": {
    "scrolled": true
   },
   "outputs": [
    {
     "name": "stdout",
     "output_type": "stream",
     "text": [
      "\n",
      "FULL NAME | TWITTER\n",
      "\n",
      "Derek  Hawkins | @derekhawkins\n",
      "\n",
      "Erik Sven- Osterberg | @sverik\n",
      "\n",
      "Ryan  Butz | @ryanbutz\n",
      "\n",
      "Example  Exampleson | @example\n",
      "\n",
      "Ripal  Pael | @ripalp\n",
      "\n",
      "Darth  Vader | @darthvader\n"
     ]
    }
   ],
   "source": [
    "with open('files/names.txt') as f:\n",
    "    data = f.readlines()\n",
    "    \n",
    "\n",
    "    \n",
    "\n",
    "# pattern = re.compile(\"([A-Z][a-z]+), ([A-Z][a-z]+).*\\s(@[a-zA-Z0-9]+$)\")\n",
    "pattern = re.compile(\"([A-Z][a-z]+), ([\\w -]*)([A-Z][a-z]+).*\\s(@[a-zA-Z0-9]+)\")\n",
    "\n",
    "print(\"\\nFULL NAME | TWITTER\")\n",
    "\n",
    "for line in data:\n",
    "    output = pattern.search(line)\n",
    "    if output:\n",
    "\n",
    "        print(f\"\\n{output.group(3)} {output.group(2)} {output.group(1)} | {output.group(4)}\")"
   ]
  },
  {
   "cell_type": "markdown",
   "metadata": {},
   "source": [
    "### Regex project\n",
    "\n",
    "Use python to read the file regex_test.txt and print the last name on each line using regular expressions and groups (return None for names with no first and last name, or names that aren't properly capitalized)\n",
    "##### Hint: use with open() and readlines()"
   ]
  },
  {
   "cell_type": "code",
   "execution_count": null,
   "metadata": {},
   "outputs": [],
   "source": [
    "\"\"\"\n",
    "Expected Output\n",
    "Abraham Lincoln\n",
    "Andrew P Garfield\n",
    "Connor Milliken\n",
    "Jordan Alexander Williams\n",
    "None\n",
    "None\n",
    "\"\"\""
   ]
  },
  {
   "cell_type": "code",
   "execution_count": null,
   "metadata": {},
   "outputs": [],
   "source": []
  }
 ],
 "metadata": {
  "interpreter": {
   "hash": "7ff66e84a478d056964c59e90b1e6cd554bb5dbe8562242d1d162bd0b6725b1c"
  },
  "kernelspec": {
   "display_name": "Python 3.9.12 64-bit",
   "language": "python",
   "name": "python3"
  },
  "language_info": {
   "codemirror_mode": {
    "name": "ipython",
    "version": 3
   },
   "file_extension": ".py",
   "mimetype": "text/x-python",
   "name": "python",
   "nbconvert_exporter": "python",
   "pygments_lexer": "ipython3",
   "version": "3.9.12"
  }
 },
 "nbformat": 4,
 "nbformat_minor": 2
}
